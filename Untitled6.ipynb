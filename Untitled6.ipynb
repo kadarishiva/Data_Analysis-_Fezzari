{
  "nbformat": 4,
  "nbformat_minor": 0,
  "metadata": {
    "colab": {
      "provenance": [],
      "authorship_tag": "ABX9TyMMvLm+E/as7qvAMhfdKxLR",
      "include_colab_link": true
    },
    "kernelspec": {
      "name": "python3",
      "display_name": "Python 3"
    },
    "language_info": {
      "name": "python"
    }
  },
  "cells": [
    {
      "cell_type": "markdown",
      "metadata": {
        "id": "view-in-github",
        "colab_type": "text"
      },
      "source": [
        "<a href=\"https://colab.research.google.com/github/kadarishiva/Data_Analysis-_Fezzari/blob/main/Untitled6.ipynb\" target=\"_parent\"><img src=\"https://colab.research.google.com/assets/colab-badge.svg\" alt=\"Open In Colab\"/></a>"
      ]
    },
    {
      "cell_type": "markdown",
      "source": [
        "Exploratory Data Analysis on Fezzari Automobile company"
      ],
      "metadata": {
        "id": "TLKJ2_GtgsbU"
      }
    },
    {
      "cell_type": "markdown",
      "source": [
        "Fezzari Automobile Sales hired me to analyze their sales and profits for two years in order to improve their business across all of their outlets. As a data science consultant, I analyzed and prepared a report on the data that will help them improve their business."
      ],
      "metadata": {
        "id": "Pw03-MLQEjhH"
      }
    },
    {
      "cell_type": "markdown",
      "source": [
        "1. What age group of customers likes to visit the store the most?\n",
        "2. Determine the profit from each sale and the overall cost price of client invoices.\n",
        "3. Determine the amount invested and the overall revenue, profit, and investment.\n",
        "4. What goods are the most popular?\n",
        "5. What are the sales and earnings in each nation?\n",
        "6. Discover the preferred methods of payment for customers.\n",
        "7. Which gender of clients is more interested in shopping at the shop?\n",
        "8. What are the revenue and profits for each category of products?\n",
        "9. What are the annual income and profits for 2015 and 2016?\n",
        "10. How many items are sold below their wholesale price?\n"
      ],
      "metadata": {
        "id": "27ulnU_iHgYC"
      }
    },
    {
      "cell_type": "code",
      "execution_count": null,
      "metadata": {
        "id": "1oyKbALebXMA"
      },
      "outputs": [],
      "source": [
        "import pandas as pd\n",
        "import numpy\n",
        "import matplotlib.pyplot as plt\n"
      ]
    },
    {
      "cell_type": "markdown",
      "source": [
        "Analyzing the dataset provided by the company using pandas framework."
      ],
      "metadata": {
        "id": "RNq89reuxNiQ"
      }
    },
    {
      "cell_type": "code",
      "source": [
        "ds = pd.read_csv('/content/Fezzari Sales.csv')\n",
        "ds.head(100)\n"
      ],
      "metadata": {
        "colab": {
          "base_uri": "https://localhost:8080/",
          "height": 852
        },
        "id": "Iq6UcTXlbdh5",
        "outputId": "92e8af68-1c4b-44f6-a886-41176b641c4e"
      },
      "execution_count": null,
      "outputs": [
        {
          "output_type": "execute_result",
          "data": {
            "text/plain": [
              "          Date   Time    Year  Customer Age Customer Gender        Country  \\\n",
              "0     02-19-16  13:08  2016.0          29.0               F  United States   \n",
              "1      2-20-16  10:29  2016.0          29.0               F  United States   \n",
              "2      2-27-16  13:23  2016.0          29.0               F  United States   \n",
              "3   12-03-2016  20:33  2016.0          29.0               F  United States   \n",
              "4   12-03-2016  10:37  2016.0          29.0               F  United States   \n",
              "..         ...    ...     ...           ...             ...            ...   \n",
              "95  04-09-2015  20:38  2015.0          22.0               F  United States   \n",
              "96  06-09-2015  10:25  2015.0          22.0               F  United States   \n",
              "97    10-22-15  13:11  2015.0          22.0               F  United States   \n",
              "98    10-22-15  10:16  2015.0          22.0               F  United States   \n",
              "99    12-21-15  18:14  2015.0          22.0               F  United States   \n",
              "\n",
              "         State Product Category       Sub Category  Quantity  Unit Cost  \\\n",
              "0   Washington      Accessories    Tires and Tubes       1.0      80.00   \n",
              "1   Washington         Clothing             Gloves       2.0      24.50   \n",
              "2   Washington      Accessories    Tires and Tubes       3.0       3.67   \n",
              "3   Washington      Accessories    Tires and Tubes       2.0      87.50   \n",
              "4   Washington      Accessories    Tires and Tubes       3.0      35.00   \n",
              "..         ...              ...                ...       ...        ...   \n",
              "95  Washington         Clothing            Jerseys       2.0     486.00   \n",
              "96  Washington      Accessories  Bottles and Cages       2.0      25.00   \n",
              "97  Washington      Accessories  Bottles and Cages       1.0     189.00   \n",
              "98  Washington      Accessories  Bottles and Cages       3.0       6.67   \n",
              "99  Washington         Clothing            Jerseys       1.0     150.00   \n",
              "\n",
              "    Revenue      Payment  Rating  \n",
              "0     109.0  Credit Card     6.5  \n",
              "1      57.0  Credit Card     5.0  \n",
              "2      15.0         Cash     7.5  \n",
              "3     233.0         Cash     6.5  \n",
              "4     125.0         Cash     8.0  \n",
              "..      ...          ...     ...  \n",
              "95   1071.0  Credit Card     9.0  \n",
              "96     53.0         Cash     9.0  \n",
              "97    179.0         Cash     8.0  \n",
              "98     21.0  Credit Card    10.0  \n",
              "99    159.0  Credit Card     9.0  \n",
              "\n",
              "[100 rows x 14 columns]"
            ],
            "text/html": [
              "\n",
              "  <div id=\"df-82d62b37-2a04-4c91-819a-63bd32c71962\">\n",
              "    <div class=\"colab-df-container\">\n",
              "      <div>\n",
              "<style scoped>\n",
              "    .dataframe tbody tr th:only-of-type {\n",
              "        vertical-align: middle;\n",
              "    }\n",
              "\n",
              "    .dataframe tbody tr th {\n",
              "        vertical-align: top;\n",
              "    }\n",
              "\n",
              "    .dataframe thead th {\n",
              "        text-align: right;\n",
              "    }\n",
              "</style>\n",
              "<table border=\"1\" class=\"dataframe\">\n",
              "  <thead>\n",
              "    <tr style=\"text-align: right;\">\n",
              "      <th></th>\n",
              "      <th>Date</th>\n",
              "      <th>Time</th>\n",
              "      <th>Year</th>\n",
              "      <th>Customer Age</th>\n",
              "      <th>Customer Gender</th>\n",
              "      <th>Country</th>\n",
              "      <th>State</th>\n",
              "      <th>Product Category</th>\n",
              "      <th>Sub Category</th>\n",
              "      <th>Quantity</th>\n",
              "      <th>Unit Cost</th>\n",
              "      <th>Revenue</th>\n",
              "      <th>Payment</th>\n",
              "      <th>Rating</th>\n",
              "    </tr>\n",
              "  </thead>\n",
              "  <tbody>\n",
              "    <tr>\n",
              "      <th>0</th>\n",
              "      <td>02-19-16</td>\n",
              "      <td>13:08</td>\n",
              "      <td>2016.0</td>\n",
              "      <td>29.0</td>\n",
              "      <td>F</td>\n",
              "      <td>United States</td>\n",
              "      <td>Washington</td>\n",
              "      <td>Accessories</td>\n",
              "      <td>Tires and Tubes</td>\n",
              "      <td>1.0</td>\n",
              "      <td>80.00</td>\n",
              "      <td>109.0</td>\n",
              "      <td>Credit Card</td>\n",
              "      <td>6.5</td>\n",
              "    </tr>\n",
              "    <tr>\n",
              "      <th>1</th>\n",
              "      <td>2-20-16</td>\n",
              "      <td>10:29</td>\n",
              "      <td>2016.0</td>\n",
              "      <td>29.0</td>\n",
              "      <td>F</td>\n",
              "      <td>United States</td>\n",
              "      <td>Washington</td>\n",
              "      <td>Clothing</td>\n",
              "      <td>Gloves</td>\n",
              "      <td>2.0</td>\n",
              "      <td>24.50</td>\n",
              "      <td>57.0</td>\n",
              "      <td>Credit Card</td>\n",
              "      <td>5.0</td>\n",
              "    </tr>\n",
              "    <tr>\n",
              "      <th>2</th>\n",
              "      <td>2-27-16</td>\n",
              "      <td>13:23</td>\n",
              "      <td>2016.0</td>\n",
              "      <td>29.0</td>\n",
              "      <td>F</td>\n",
              "      <td>United States</td>\n",
              "      <td>Washington</td>\n",
              "      <td>Accessories</td>\n",
              "      <td>Tires and Tubes</td>\n",
              "      <td>3.0</td>\n",
              "      <td>3.67</td>\n",
              "      <td>15.0</td>\n",
              "      <td>Cash</td>\n",
              "      <td>7.5</td>\n",
              "    </tr>\n",
              "    <tr>\n",
              "      <th>3</th>\n",
              "      <td>12-03-2016</td>\n",
              "      <td>20:33</td>\n",
              "      <td>2016.0</td>\n",
              "      <td>29.0</td>\n",
              "      <td>F</td>\n",
              "      <td>United States</td>\n",
              "      <td>Washington</td>\n",
              "      <td>Accessories</td>\n",
              "      <td>Tires and Tubes</td>\n",
              "      <td>2.0</td>\n",
              "      <td>87.50</td>\n",
              "      <td>233.0</td>\n",
              "      <td>Cash</td>\n",
              "      <td>6.5</td>\n",
              "    </tr>\n",
              "    <tr>\n",
              "      <th>4</th>\n",
              "      <td>12-03-2016</td>\n",
              "      <td>10:37</td>\n",
              "      <td>2016.0</td>\n",
              "      <td>29.0</td>\n",
              "      <td>F</td>\n",
              "      <td>United States</td>\n",
              "      <td>Washington</td>\n",
              "      <td>Accessories</td>\n",
              "      <td>Tires and Tubes</td>\n",
              "      <td>3.0</td>\n",
              "      <td>35.00</td>\n",
              "      <td>125.0</td>\n",
              "      <td>Cash</td>\n",
              "      <td>8.0</td>\n",
              "    </tr>\n",
              "    <tr>\n",
              "      <th>...</th>\n",
              "      <td>...</td>\n",
              "      <td>...</td>\n",
              "      <td>...</td>\n",
              "      <td>...</td>\n",
              "      <td>...</td>\n",
              "      <td>...</td>\n",
              "      <td>...</td>\n",
              "      <td>...</td>\n",
              "      <td>...</td>\n",
              "      <td>...</td>\n",
              "      <td>...</td>\n",
              "      <td>...</td>\n",
              "      <td>...</td>\n",
              "      <td>...</td>\n",
              "    </tr>\n",
              "    <tr>\n",
              "      <th>95</th>\n",
              "      <td>04-09-2015</td>\n",
              "      <td>20:38</td>\n",
              "      <td>2015.0</td>\n",
              "      <td>22.0</td>\n",
              "      <td>F</td>\n",
              "      <td>United States</td>\n",
              "      <td>Washington</td>\n",
              "      <td>Clothing</td>\n",
              "      <td>Jerseys</td>\n",
              "      <td>2.0</td>\n",
              "      <td>486.00</td>\n",
              "      <td>1071.0</td>\n",
              "      <td>Credit Card</td>\n",
              "      <td>9.0</td>\n",
              "    </tr>\n",
              "    <tr>\n",
              "      <th>96</th>\n",
              "      <td>06-09-2015</td>\n",
              "      <td>10:25</td>\n",
              "      <td>2015.0</td>\n",
              "      <td>22.0</td>\n",
              "      <td>F</td>\n",
              "      <td>United States</td>\n",
              "      <td>Washington</td>\n",
              "      <td>Accessories</td>\n",
              "      <td>Bottles and Cages</td>\n",
              "      <td>2.0</td>\n",
              "      <td>25.00</td>\n",
              "      <td>53.0</td>\n",
              "      <td>Cash</td>\n",
              "      <td>9.0</td>\n",
              "    </tr>\n",
              "    <tr>\n",
              "      <th>97</th>\n",
              "      <td>10-22-15</td>\n",
              "      <td>13:11</td>\n",
              "      <td>2015.0</td>\n",
              "      <td>22.0</td>\n",
              "      <td>F</td>\n",
              "      <td>United States</td>\n",
              "      <td>Washington</td>\n",
              "      <td>Accessories</td>\n",
              "      <td>Bottles and Cages</td>\n",
              "      <td>1.0</td>\n",
              "      <td>189.00</td>\n",
              "      <td>179.0</td>\n",
              "      <td>Cash</td>\n",
              "      <td>8.0</td>\n",
              "    </tr>\n",
              "    <tr>\n",
              "      <th>98</th>\n",
              "      <td>10-22-15</td>\n",
              "      <td>10:16</td>\n",
              "      <td>2015.0</td>\n",
              "      <td>22.0</td>\n",
              "      <td>F</td>\n",
              "      <td>United States</td>\n",
              "      <td>Washington</td>\n",
              "      <td>Accessories</td>\n",
              "      <td>Bottles and Cages</td>\n",
              "      <td>3.0</td>\n",
              "      <td>6.67</td>\n",
              "      <td>21.0</td>\n",
              "      <td>Credit Card</td>\n",
              "      <td>10.0</td>\n",
              "    </tr>\n",
              "    <tr>\n",
              "      <th>99</th>\n",
              "      <td>12-21-15</td>\n",
              "      <td>18:14</td>\n",
              "      <td>2015.0</td>\n",
              "      <td>22.0</td>\n",
              "      <td>F</td>\n",
              "      <td>United States</td>\n",
              "      <td>Washington</td>\n",
              "      <td>Clothing</td>\n",
              "      <td>Jerseys</td>\n",
              "      <td>1.0</td>\n",
              "      <td>150.00</td>\n",
              "      <td>159.0</td>\n",
              "      <td>Credit Card</td>\n",
              "      <td>9.0</td>\n",
              "    </tr>\n",
              "  </tbody>\n",
              "</table>\n",
              "<p>100 rows × 14 columns</p>\n",
              "</div>\n",
              "      <button class=\"colab-df-convert\" onclick=\"convertToInteractive('df-82d62b37-2a04-4c91-819a-63bd32c71962')\"\n",
              "              title=\"Convert this dataframe to an interactive table.\"\n",
              "              style=\"display:none;\">\n",
              "        \n",
              "  <svg xmlns=\"http://www.w3.org/2000/svg\" height=\"24px\"viewBox=\"0 0 24 24\"\n",
              "       width=\"24px\">\n",
              "    <path d=\"M0 0h24v24H0V0z\" fill=\"none\"/>\n",
              "    <path d=\"M18.56 5.44l.94 2.06.94-2.06 2.06-.94-2.06-.94-.94-2.06-.94 2.06-2.06.94zm-11 1L8.5 8.5l.94-2.06 2.06-.94-2.06-.94L8.5 2.5l-.94 2.06-2.06.94zm10 10l.94 2.06.94-2.06 2.06-.94-2.06-.94-.94-2.06-.94 2.06-2.06.94z\"/><path d=\"M17.41 7.96l-1.37-1.37c-.4-.4-.92-.59-1.43-.59-.52 0-1.04.2-1.43.59L10.3 9.45l-7.72 7.72c-.78.78-.78 2.05 0 2.83L4 21.41c.39.39.9.59 1.41.59.51 0 1.02-.2 1.41-.59l7.78-7.78 2.81-2.81c.8-.78.8-2.07 0-2.86zM5.41 20L4 18.59l7.72-7.72 1.47 1.35L5.41 20z\"/>\n",
              "  </svg>\n",
              "      </button>\n",
              "      \n",
              "  <style>\n",
              "    .colab-df-container {\n",
              "      display:flex;\n",
              "      flex-wrap:wrap;\n",
              "      gap: 12px;\n",
              "    }\n",
              "\n",
              "    .colab-df-convert {\n",
              "      background-color: #E8F0FE;\n",
              "      border: none;\n",
              "      border-radius: 50%;\n",
              "      cursor: pointer;\n",
              "      display: none;\n",
              "      fill: #1967D2;\n",
              "      height: 32px;\n",
              "      padding: 0 0 0 0;\n",
              "      width: 32px;\n",
              "    }\n",
              "\n",
              "    .colab-df-convert:hover {\n",
              "      background-color: #E2EBFA;\n",
              "      box-shadow: 0px 1px 2px rgba(60, 64, 67, 0.3), 0px 1px 3px 1px rgba(60, 64, 67, 0.15);\n",
              "      fill: #174EA6;\n",
              "    }\n",
              "\n",
              "    [theme=dark] .colab-df-convert {\n",
              "      background-color: #3B4455;\n",
              "      fill: #D2E3FC;\n",
              "    }\n",
              "\n",
              "    [theme=dark] .colab-df-convert:hover {\n",
              "      background-color: #434B5C;\n",
              "      box-shadow: 0px 1px 3px 1px rgba(0, 0, 0, 0.15);\n",
              "      filter: drop-shadow(0px 1px 2px rgba(0, 0, 0, 0.3));\n",
              "      fill: #FFFFFF;\n",
              "    }\n",
              "  </style>\n",
              "\n",
              "      <script>\n",
              "        const buttonEl =\n",
              "          document.querySelector('#df-82d62b37-2a04-4c91-819a-63bd32c71962 button.colab-df-convert');\n",
              "        buttonEl.style.display =\n",
              "          google.colab.kernel.accessAllowed ? 'block' : 'none';\n",
              "\n",
              "        async function convertToInteractive(key) {\n",
              "          const element = document.querySelector('#df-82d62b37-2a04-4c91-819a-63bd32c71962');\n",
              "          const dataTable =\n",
              "            await google.colab.kernel.invokeFunction('convertToInteractive',\n",
              "                                                     [key], {});\n",
              "          if (!dataTable) return;\n",
              "\n",
              "          const docLinkHtml = 'Like what you see? Visit the ' +\n",
              "            '<a target=\"_blank\" href=https://colab.research.google.com/notebooks/data_table.ipynb>data table notebook</a>'\n",
              "            + ' to learn more about interactive tables.';\n",
              "          element.innerHTML = '';\n",
              "          dataTable['output_type'] = 'display_data';\n",
              "          await google.colab.output.renderOutput(dataTable, element);\n",
              "          const docLink = document.createElement('div');\n",
              "          docLink.innerHTML = docLinkHtml;\n",
              "          element.appendChild(docLink);\n",
              "        }\n",
              "      </script>\n",
              "    </div>\n",
              "  </div>\n",
              "  "
            ]
          },
          "metadata": {},
          "execution_count": 2
        }
      ]
    },
    {
      "cell_type": "code",
      "source": [
        "ds.shape"
      ],
      "metadata": {
        "colab": {
          "base_uri": "https://localhost:8080/"
        },
        "id": "oKaWg4D6fWzv",
        "outputId": "d97bcf70-f785-4295-8123-fbaff81af0f9"
      },
      "execution_count": null,
      "outputs": [
        {
          "output_type": "execute_result",
          "data": {
            "text/plain": [
              "(34867, 14)"
            ]
          },
          "metadata": {},
          "execution_count": 3
        }
      ]
    },
    {
      "cell_type": "markdown",
      "source": [
        "After analyzing the dataset, I noticed that there are 34867 rows and columns. This dataset consists of sales data of a automobile industry."
      ],
      "metadata": {
        "id": "PKxAy8UMxj3H"
      }
    },
    {
      "cell_type": "code",
      "source": [
        "ds.isnull().sum()"
      ],
      "metadata": {
        "colab": {
          "base_uri": "https://localhost:8080/"
        },
        "id": "YKzydziBgv_Z",
        "outputId": "9faa1ad8-8646-4c00-f1e1-706013f64c06"
      },
      "execution_count": null,
      "outputs": [
        {
          "output_type": "execute_result",
          "data": {
            "text/plain": [
              "Date                1\n",
              "Time                1\n",
              "Year                1\n",
              "Customer Age        3\n",
              "Customer Gender     3\n",
              "Country             1\n",
              "State               3\n",
              "Product Category    4\n",
              "Sub Category        3\n",
              "Quantity            1\n",
              "Unit Cost           3\n",
              "Revenue             1\n",
              "Payment             0\n",
              "Rating              1\n",
              "dtype: int64"
            ]
          },
          "metadata": {},
          "execution_count": 4
        }
      ]
    },
    {
      "cell_type": "markdown",
      "source": [
        "In the dataset, I detected the null values. I opted to clean up the dataset and remove the null values after evaluating the null value count because it is a modest number. I'd try to replace them if there were a lot of them."
      ],
      "metadata": {
        "id": "ChiL8UnnzB6U"
      }
    },
    {
      "cell_type": "code",
      "source": [
        "ds = ds.dropna()\n",
        "#ds.isnull().sum()"
      ],
      "metadata": {
        "id": "Z2pFihXHhJnJ"
      },
      "execution_count": null,
      "outputs": []
    },
    {
      "cell_type": "code",
      "source": [
        "ds.isnull().sum()"
      ],
      "metadata": {
        "colab": {
          "base_uri": "https://localhost:8080/"
        },
        "id": "avM47M_khkLe",
        "outputId": "c4c74d71-0926-443d-8272-4e372272271f"
      },
      "execution_count": null,
      "outputs": [
        {
          "output_type": "execute_result",
          "data": {
            "text/plain": [
              "Date                0\n",
              "Time                0\n",
              "Year                0\n",
              "Customer Age        0\n",
              "Customer Gender     0\n",
              "Country             0\n",
              "State               0\n",
              "Product Category    0\n",
              "Sub Category        0\n",
              "Quantity            0\n",
              "Unit Cost           0\n",
              "Revenue             0\n",
              "Payment             0\n",
              "Rating              0\n",
              "dtype: int64"
            ]
          },
          "metadata": {},
          "execution_count": 6
        }
      ]
    },
    {
      "cell_type": "code",
      "source": [
        "ds.shape"
      ],
      "metadata": {
        "colab": {
          "base_uri": "https://localhost:8080/"
        },
        "id": "yNB0T2E6kRvo",
        "outputId": "7a89afa4-da41-4582-a6ee-f4de01b0497d"
      },
      "execution_count": null,
      "outputs": [
        {
          "output_type": "execute_result",
          "data": {
            "text/plain": [
              "(34853, 14)"
            ]
          },
          "metadata": {},
          "execution_count": 7
        }
      ]
    },
    {
      "cell_type": "markdown",
      "source": [
        "I have dropped the null values using dropna() method."
      ],
      "metadata": {
        "id": "bJQhi3fgzuAG"
      }
    },
    {
      "cell_type": "markdown",
      "source": [
        "1. What age group of customers likes to visit the store the most?"
      ],
      "metadata": {
        "id": "oXifvcWs1UJV"
      }
    },
    {
      "cell_type": "code",
      "source": [
        "ds.hist('Customer Age')\n",
        "print(ds['Customer Age'].value_counts())\n"
      ],
      "metadata": {
        "colab": {
          "base_uri": "https://localhost:8080/",
          "height": 489
        },
        "id": "B_9m_OmQkiX2",
        "outputId": "22bed081-50a5-4fba-c1f5-e8da566b19ba"
      },
      "execution_count": null,
      "outputs": [
        {
          "output_type": "stream",
          "name": "stdout",
          "text": [
            "31.0    1307\n",
            "28.0    1277\n",
            "34.0    1260\n",
            "29.0    1232\n",
            "30.0    1204\n",
            "        ... \n",
            "87.0       3\n",
            "80.0       3\n",
            "74.0       2\n",
            "76.0       2\n",
            "82.0       2\n",
            "Name: Customer Age, Length: 70, dtype: int64\n"
          ]
        },
        {
          "output_type": "display_data",
          "data": {
            "text/plain": [
              "<Figure size 432x288 with 1 Axes>"
            ],
            "image/png": "[encoded data removed]"
          },
          "metadata": {
            "needs_background": "light"
          }
        }
      ]
    },
    {
      "cell_type": "markdown",
      "source": [
        "I have plotted histogram using hist() method by importing required packages."
      ],
      "metadata": {
        "id": "78lBnqrIR0L5"
      }
    },
    {
      "cell_type": "markdown",
      "source": [
        "Using the plotting technique, I discovered that customers who are between the ages of 25 and 45 are the most interested in purchasing the store's goods."
      ],
      "metadata": {
        "id": "XMJecLzb18w9"
      }
    },
    {
      "cell_type": "markdown",
      "source": [
        "2. Determine the profit from each sale as well as the total cost price of customer bills.\n",
        "\n"
      ],
      "metadata": {
        "id": "qaARHd0XOvnn"
      }
    },
    {
      "cell_type": "code",
      "source": [
        "ds['Sales Cost'] = ds['Quantity']*ds['Unit Cost']\n",
        "ds"
      ],
      "metadata": {
        "colab": {
          "base_uri": "https://localhost:8080/",
          "height": 852
        },
        "id": "LyUyg7MeragL",
        "outputId": "70e24050-1017-48d5-d20a-4851ff1e684b"
      },
      "execution_count": null,
      "outputs": [
        {
          "output_type": "execute_result",
          "data": {
            "text/plain": [
              "             Date   Time    Year  Customer Age Customer Gender        Country  \\\n",
              "0        02-19-16  13:08  2016.0          29.0               F  United States   \n",
              "1         2-20-16  10:29  2016.0          29.0               F  United States   \n",
              "2         2-27-16  13:23  2016.0          29.0               F  United States   \n",
              "3      12-03-2016  20:33  2016.0          29.0               F  United States   \n",
              "4      12-03-2016  10:37  2016.0          29.0               F  United States   \n",
              "...           ...    ...     ...           ...             ...            ...   \n",
              "34860     2-24-16  13:24  2016.0          37.0               M        Germany   \n",
              "34861     3-22-15  18:06  2015.0          38.0               M         France   \n",
              "34863     3-13-15  11:42  2015.0          38.0               M         France   \n",
              "34864  05-04-2015  14:30  2015.0          38.0               M         France   \n",
              "34865     8-30-15  15:11  2015.0          38.0               M         France   \n",
              "\n",
              "                   State Product Category     Sub Category  Quantity  \\\n",
              "0             Washington      Accessories  Tires and Tubes       1.0   \n",
              "1             Washington         Clothing           Gloves       2.0   \n",
              "2             Washington      Accessories  Tires and Tubes       3.0   \n",
              "3             Washington      Accessories  Tires and Tubes       2.0   \n",
              "4             Washington      Accessories  Tires and Tubes       3.0   \n",
              "...                  ...              ...              ...       ...   \n",
              "34860             Bayern            Bikes   Mountain Bikes       2.0   \n",
              "34861  Charente-Maritime            Bikes   Mountain Bikes       1.0   \n",
              "34863     Hauts de Seine            Bikes   Mountain Bikes       1.0   \n",
              "34864     Hauts de Seine            Bikes   Mountain Bikes       3.0   \n",
              "34865     Hauts de Seine            Bikes   Mountain Bikes       1.0   \n",
              "\n",
              "       Unit Cost  Revenue      Payment  Rating  Sales Cost  \n",
              "0          80.00    109.0  Credit Card     6.5       80.00  \n",
              "1          24.50     57.0  Credit Card     5.0       49.00  \n",
              "2           3.67     15.0         Cash     7.5       11.01  \n",
              "3          87.50    233.0         Cash     6.5      175.00  \n",
              "4          35.00    125.0         Cash     8.0      105.00  \n",
              "...          ...      ...          ...     ...         ...  \n",
              "34860     384.50   1072.0         Cash     7.0      769.00  \n",
              "34861    2049.00   1487.0         Cash     9.0     2049.00  \n",
              "34863    2049.00   1583.0         Cash     9.5     2049.00  \n",
              "34864     683.00   1682.0         Cash     7.0     2049.00  \n",
              "34865    2320.00   1568.0         Cash     9.5     2320.00  \n",
              "\n",
              "[34853 rows x 15 columns]"
            ],
            "text/html": [
              "\n",
              "  <div id=\"df-7531cb0b-6897-4807-b68b-379896a3b461\">\n",
              "    <div class=\"colab-df-container\">\n",
              "      <div>\n",
              "<style scoped>\n",
              "    .dataframe tbody tr th:only-of-type {\n",
              "        vertical-align: middle;\n",
              "    }\n",
              "\n",
              "    .dataframe tbody tr th {\n",
              "        vertical-align: top;\n",
              "    }\n",
              "\n",
              "    .dataframe thead th {\n",
              "        text-align: right;\n",
              "    }\n",
              "</style>\n",
              "<table border=\"1\" class=\"dataframe\">\n",
              "  <thead>\n",
              "    <tr style=\"text-align: right;\">\n",
              "      <th></th>\n",
              "      <th>Date</th>\n",
              "      <th>Time</th>\n",
              "      <th>Year</th>\n",
              "      <th>Customer Age</th>\n",
              "      <th>Customer Gender</th>\n",
              "      <th>Country</th>\n",
              "      <th>State</th>\n",
              "      <th>Product Category</th>\n",
              "      <th>Sub Category</th>\n",
              "      <th>Quantity</th>\n",
              "      <th>Unit Cost</th>\n",
              "      <th>Revenue</th>\n",
              "      <th>Payment</th>\n",
              "      <th>Rating</th>\n",
              "      <th>Sales Cost</th>\n",
              "    </tr>\n",
              "  </thead>\n",
              "  <tbody>\n",
              "    <tr>\n",
              "      <th>0</th>\n",
              "      <td>02-19-16</td>\n",
              "      <td>13:08</td>\n",
              "      <td>2016.0</td>\n",
              "      <td>29.0</td>\n",
              "      <td>F</td>\n",
              "      <td>United States</td>\n",
              "      <td>Washington</td>\n",
              "      <td>Accessories</td>\n",
              "      <td>Tires and Tubes</td>\n",
              "      <td>1.0</td>\n",
              "      <td>80.00</td>\n",
              "      <td>109.0</td>\n",
              "      <td>Credit Card</td>\n",
              "      <td>6.5</td>\n",
              "      <td>80.00</td>\n",
              "    </tr>\n",
              "    <tr>\n",
              "      <th>1</th>\n",
              "      <td>2-20-16</td>\n",
              "      <td>10:29</td>\n",
              "      <td>2016.0</td>\n",
              "      <td>29.0</td>\n",
              "      <td>F</td>\n",
              "      <td>United States</td>\n",
              "      <td>Washington</td>\n",
              "      <td>Clothing</td>\n",
              "      <td>Gloves</td>\n",
              "      <td>2.0</td>\n",
              "      <td>24.50</td>\n",
              "      <td>57.0</td>\n",
              "      <td>Credit Card</td>\n",
              "      <td>5.0</td>\n",
              "      <td>49.00</td>\n",
              "    </tr>\n",
              "    <tr>\n",
              "      <th>2</th>\n",
              "      <td>2-27-16</td>\n",
              "      <td>13:23</td>\n",
              "      <td>2016.0</td>\n",
              "      <td>29.0</td>\n",
              "      <td>F</td>\n",
              "      <td>United States</td>\n",
              "      <td>Washington</td>\n",
              "      <td>Accessories</td>\n",
              "      <td>Tires and Tubes</td>\n",
              "      <td>3.0</td>\n",
              "      <td>3.67</td>\n",
              "      <td>15.0</td>\n",
              "      <td>Cash</td>\n",
              "      <td>7.5</td>\n",
              "      <td>11.01</td>\n",
              "    </tr>\n",
              "    <tr>\n",
              "      <th>3</th>\n",
              "      <td>12-03-2016</td>\n",
              "      <td>20:33</td>\n",
              "      <td>2016.0</td>\n",
              "      <td>29.0</td>\n",
              "      <td>F</td>\n",
              "      <td>United States</td>\n",
              "      <td>Washington</td>\n",
              "      <td>Accessories</td>\n",
              "      <td>Tires and Tubes</td>\n",
              "      <td>2.0</td>\n",
              "      <td>87.50</td>\n",
              "      <td>233.0</td>\n",
              "      <td>Cash</td>\n",
              "      <td>6.5</td>\n",
              "      <td>175.00</td>\n",
              "    </tr>\n",
              "    <tr>\n",
              "      <th>4</th>\n",
              "      <td>12-03-2016</td>\n",
              "      <td>10:37</td>\n",
              "      <td>2016.0</td>\n",
              "      <td>29.0</td>\n",
              "      <td>F</td>\n",
              "      <td>United States</td>\n",
              "      <td>Washington</td>\n",
              "      <td>Accessories</td>\n",
              "      <td>Tires and Tubes</td>\n",
              "      <td>3.0</td>\n",
              "      <td>35.00</td>\n",
              "      <td>125.0</td>\n",
              "      <td>Cash</td>\n",
              "      <td>8.0</td>\n",
              "      <td>105.00</td>\n",
              "    </tr>\n",
              "    <tr>\n",
              "      <th>...</th>\n",
              "      <td>...</td>\n",
              "      <td>...</td>\n",
              "      <td>...</td>\n",
              "      <td>...</td>\n",
              "      <td>...</td>\n",
              "      <td>...</td>\n",
              "      <td>...</td>\n",
              "      <td>...</td>\n",
              "      <td>...</td>\n",
              "      <td>...</td>\n",
              "      <td>...</td>\n",
              "      <td>...</td>\n",
              "      <td>...</td>\n",
              "      <td>...</td>\n",
              "      <td>...</td>\n",
              "    </tr>\n",
              "    <tr>\n",
              "      <th>34860</th>\n",
              "      <td>2-24-16</td>\n",
              "      <td>13:24</td>\n",
              "      <td>2016.0</td>\n",
              "      <td>37.0</td>\n",
              "      <td>M</td>\n",
              "      <td>Germany</td>\n",
              "      <td>Bayern</td>\n",
              "      <td>Bikes</td>\n",
              "      <td>Mountain Bikes</td>\n",
              "      <td>2.0</td>\n",
              "      <td>384.50</td>\n",
              "      <td>1072.0</td>\n",
              "      <td>Cash</td>\n",
              "      <td>7.0</td>\n",
              "      <td>769.00</td>\n",
              "    </tr>\n",
              "    <tr>\n",
              "      <th>34861</th>\n",
              "      <td>3-22-15</td>\n",
              "      <td>18:06</td>\n",
              "      <td>2015.0</td>\n",
              "      <td>38.0</td>\n",
              "      <td>M</td>\n",
              "      <td>France</td>\n",
              "      <td>Charente-Maritime</td>\n",
              "      <td>Bikes</td>\n",
              "      <td>Mountain Bikes</td>\n",
              "      <td>1.0</td>\n",
              "      <td>2049.00</td>\n",
              "      <td>1487.0</td>\n",
              "      <td>Cash</td>\n",
              "      <td>9.0</td>\n",
              "      <td>2049.00</td>\n",
              "    </tr>\n",
              "    <tr>\n",
              "      <th>34863</th>\n",
              "      <td>3-13-15</td>\n",
              "      <td>11:42</td>\n",
              "      <td>2015.0</td>\n",
              "      <td>38.0</td>\n",
              "      <td>M</td>\n",
              "      <td>France</td>\n",
              "      <td>Hauts de Seine</td>\n",
              "      <td>Bikes</td>\n",
              "      <td>Mountain Bikes</td>\n",
              "      <td>1.0</td>\n",
              "      <td>2049.00</td>\n",
              "      <td>1583.0</td>\n",
              "      <td>Cash</td>\n",
              "      <td>9.5</td>\n",
              "      <td>2049.00</td>\n",
              "    </tr>\n",
              "    <tr>\n",
              "      <th>34864</th>\n",
              "      <td>05-04-2015</td>\n",
              "      <td>14:30</td>\n",
              "      <td>2015.0</td>\n",
              "      <td>38.0</td>\n",
              "      <td>M</td>\n",
              "      <td>France</td>\n",
              "      <td>Hauts de Seine</td>\n",
              "      <td>Bikes</td>\n",
              "      <td>Mountain Bikes</td>\n",
              "      <td>3.0</td>\n",
              "      <td>683.00</td>\n",
              "      <td>1682.0</td>\n",
              "      <td>Cash</td>\n",
              "      <td>7.0</td>\n",
              "      <td>2049.00</td>\n",
              "    </tr>\n",
              "    <tr>\n",
              "      <th>34865</th>\n",
              "      <td>8-30-15</td>\n",
              "      <td>15:11</td>\n",
              "      <td>2015.0</td>\n",
              "      <td>38.0</td>\n",
              "      <td>M</td>\n",
              "      <td>France</td>\n",
              "      <td>Hauts de Seine</td>\n",
              "      <td>Bikes</td>\n",
              "      <td>Mountain Bikes</td>\n",
              "      <td>1.0</td>\n",
              "      <td>2320.00</td>\n",
              "      <td>1568.0</td>\n",
              "      <td>Cash</td>\n",
              "      <td>9.5</td>\n",
              "      <td>2320.00</td>\n",
              "    </tr>\n",
              "  </tbody>\n",
              "</table>\n",
              "<p>34853 rows × 15 columns</p>\n",
              "</div>\n",
              "      <button class=\"colab-df-convert\" onclick=\"convertToInteractive('df-7531cb0b-6897-4807-b68b-379896a3b461')\"\n",
              "              title=\"Convert this dataframe to an interactive table.\"\n",
              "              style=\"display:none;\">\n",
              "        \n",
              "  <svg xmlns=\"http://www.w3.org/2000/svg\" height=\"24px\"viewBox=\"0 0 24 24\"\n",
              "       width=\"24px\">\n",
              "    <path d=\"M0 0h24v24H0V0z\" fill=\"none\"/>\n",
              "    <path d=\"M18.56 5.44l.94 2.06.94-2.06 2.06-.94-2.06-.94-.94-2.06-.94 2.06-2.06.94zm-11 1L8.5 8.5l.94-2.06 2.06-.94-2.06-.94L8.5 2.5l-.94 2.06-2.06.94zm10 10l.94 2.06.94-2.06 2.06-.94-2.06-.94-.94-2.06-.94 2.06-2.06.94z\"/><path d=\"M17.41 7.96l-1.37-1.37c-.4-.4-.92-.59-1.43-.59-.52 0-1.04.2-1.43.59L10.3 9.45l-7.72 7.72c-.78.78-.78 2.05 0 2.83L4 21.41c.39.39.9.59 1.41.59.51 0 1.02-.2 1.41-.59l7.78-7.78 2.81-2.81c.8-.78.8-2.07 0-2.86zM5.41 20L4 18.59l7.72-7.72 1.47 1.35L5.41 20z\"/>\n",
              "  </svg>\n",
              "      </button>\n",
              "      \n",
              "  <style>\n",
              "    .colab-df-container {\n",
              "      display:flex;\n",
              "      flex-wrap:wrap;\n",
              "      gap: 12px;\n",
              "    }\n",
              "\n",
              "    .colab-df-convert {\n",
              "      background-color: #E8F0FE;\n",
              "      border: none;\n",
              "      border-radius: 50%;\n",
              "      cursor: pointer;\n",
              "      display: none;\n",
              "      fill: #1967D2;\n",
              "      height: 32px;\n",
              "      padding: 0 0 0 0;\n",
              "      width: 32px;\n",
              "    }\n",
              "\n",
              "    .colab-df-convert:hover {\n",
              "      background-color: #E2EBFA;\n",
              "      box-shadow: 0px 1px 2px rgba(60, 64, 67, 0.3), 0px 1px 3px 1px rgba(60, 64, 67, 0.15);\n",
              "      fill: #174EA6;\n",
              "    }\n",
              "\n",
              "    [theme=dark] .colab-df-convert {\n",
              "      background-color: #3B4455;\n",
              "      fill: #D2E3FC;\n",
              "    }\n",
              "\n",
              "    [theme=dark] .colab-df-convert:hover {\n",
              "      background-color: #434B5C;\n",
              "      box-shadow: 0px 1px 3px 1px rgba(0, 0, 0, 0.15);\n",
              "      filter: drop-shadow(0px 1px 2px rgba(0, 0, 0, 0.3));\n",
              "      fill: #FFFFFF;\n",
              "    }\n",
              "  </style>\n",
              "\n",
              "      <script>\n",
              "        const buttonEl =\n",
              "          document.querySelector('#df-7531cb0b-6897-4807-b68b-379896a3b461 button.colab-df-convert');\n",
              "        buttonEl.style.display =\n",
              "          google.colab.kernel.accessAllowed ? 'block' : 'none';\n",
              "\n",
              "        async function convertToInteractive(key) {\n",
              "          const element = document.querySelector('#df-7531cb0b-6897-4807-b68b-379896a3b461');\n",
              "          const dataTable =\n",
              "            await google.colab.kernel.invokeFunction('convertToInteractive',\n",
              "                                                     [key], {});\n",
              "          if (!dataTable) return;\n",
              "\n",
              "          const docLinkHtml = 'Like what you see? Visit the ' +\n",
              "            '<a target=\"_blank\" href=https://colab.research.google.com/notebooks/data_table.ipynb>data table notebook</a>'\n",
              "            + ' to learn more about interactive tables.';\n",
              "          element.innerHTML = '';\n",
              "          dataTable['output_type'] = 'display_data';\n",
              "          await google.colab.output.renderOutput(dataTable, element);\n",
              "          const docLink = document.createElement('div');\n",
              "          docLink.innerHTML = docLinkHtml;\n",
              "          element.appendChild(docLink);\n",
              "        }\n",
              "      </script>\n",
              "    </div>\n",
              "  </div>\n",
              "  "
            ]
          },
          "metadata": {},
          "execution_count": 9
        }
      ]
    },
    {
      "cell_type": "markdown",
      "source": [
        "By using quantity and unit cost, I have created a new column called sales cost."
      ],
      "metadata": {
        "id": "HZTOaHhpSI35"
      }
    },
    {
      "cell_type": "code",
      "source": [
        "ds['profit'] = ds['Revenue']-ds['Sales Cost']\n",
        "ds.head()"
      ],
      "metadata": {
        "colab": {
          "base_uri": "https://localhost:8080/",
          "height": 461
        },
        "id": "1jPBjy7Yr1TV",
        "outputId": "c7080cb0-d297-44fd-9fee-d4ac998b8709"
      },
      "execution_count": null,
      "outputs": [
        {
          "output_type": "execute_result",
          "data": {
            "text/plain": [
              "         Date   Time    Year  Customer Age Customer Gender        Country  \\\n",
              "0    02-19-16  13:08  2016.0          29.0               F  United States   \n",
              "1     2-20-16  10:29  2016.0          29.0               F  United States   \n",
              "2     2-27-16  13:23  2016.0          29.0               F  United States   \n",
              "3  12-03-2016  20:33  2016.0          29.0               F  United States   \n",
              "4  12-03-2016  10:37  2016.0          29.0               F  United States   \n",
              "\n",
              "        State Product Category     Sub Category  Quantity  Unit Cost  Revenue  \\\n",
              "0  Washington      Accessories  Tires and Tubes       1.0      80.00    109.0   \n",
              "1  Washington         Clothing           Gloves       2.0      24.50     57.0   \n",
              "2  Washington      Accessories  Tires and Tubes       3.0       3.67     15.0   \n",
              "3  Washington      Accessories  Tires and Tubes       2.0      87.50    233.0   \n",
              "4  Washington      Accessories  Tires and Tubes       3.0      35.00    125.0   \n",
              "\n",
              "       Payment  Rating  Sales Cost  profit  \n",
              "0  Credit Card     6.5       80.00   29.00  \n",
              "1  Credit Card     5.0       49.00    8.00  \n",
              "2         Cash     7.5       11.01    3.99  \n",
              "3         Cash     6.5      175.00   58.00  \n",
              "4         Cash     8.0      105.00   20.00  "
            ],
            "text/html": [
              "\n",
              "  <div id=\"df-a01907d1-1b12-4ee0-b77c-39f0c941edcc\">\n",
              "    <div class=\"colab-df-container\">\n",
              "      <div>\n",
              "<style scoped>\n",
              "    .dataframe tbody tr th:only-of-type {\n",
              "        vertical-align: middle;\n",
              "    }\n",
              "\n",
              "    .dataframe tbody tr th {\n",
              "        vertical-align: top;\n",
              "    }\n",
              "\n",
              "    .dataframe thead th {\n",
              "        text-align: right;\n",
              "    }\n",
              "</style>\n",
              "<table border=\"1\" class=\"dataframe\">\n",
              "  <thead>\n",
              "    <tr style=\"text-align: right;\">\n",
              "      <th></th>\n",
              "      <th>Date</th>\n",
              "      <th>Time</th>\n",
              "      <th>Year</th>\n",
              "      <th>Customer Age</th>\n",
              "      <th>Customer Gender</th>\n",
              "      <th>Country</th>\n",
              "      <th>State</th>\n",
              "      <th>Product Category</th>\n",
              "      <th>Sub Category</th>\n",
              "      <th>Quantity</th>\n",
              "      <th>Unit Cost</th>\n",
              "      <th>Revenue</th>\n",
              "      <th>Payment</th>\n",
              "      <th>Rating</th>\n",
              "      <th>Sales Cost</th>\n",
              "      <th>profit</th>\n",
              "    </tr>\n",
              "  </thead>\n",
              "  <tbody>\n",
              "    <tr>\n",
              "      <th>0</th>\n",
              "      <td>02-19-16</td>\n",
              "      <td>13:08</td>\n",
              "      <td>2016.0</td>\n",
              "      <td>29.0</td>\n",
              "      <td>F</td>\n",
              "      <td>United States</td>\n",
              "      <td>Washington</td>\n",
              "      <td>Accessories</td>\n",
              "      <td>Tires and Tubes</td>\n",
              "      <td>1.0</td>\n",
              "      <td>80.00</td>\n",
              "      <td>109.0</td>\n",
              "      <td>Credit Card</td>\n",
              "      <td>6.5</td>\n",
              "      <td>80.00</td>\n",
              "      <td>29.00</td>\n",
              "    </tr>\n",
              "    <tr>\n",
              "      <th>1</th>\n",
              "      <td>2-20-16</td>\n",
              "      <td>10:29</td>\n",
              "      <td>2016.0</td>\n",
              "      <td>29.0</td>\n",
              "      <td>F</td>\n",
              "      <td>United States</td>\n",
              "      <td>Washington</td>\n",
              "      <td>Clothing</td>\n",
              "      <td>Gloves</td>\n",
              "      <td>2.0</td>\n",
              "      <td>24.50</td>\n",
              "      <td>57.0</td>\n",
              "      <td>Credit Card</td>\n",
              "      <td>5.0</td>\n",
              "      <td>49.00</td>\n",
              "      <td>8.00</td>\n",
              "    </tr>\n",
              "    <tr>\n",
              "      <th>2</th>\n",
              "      <td>2-27-16</td>\n",
              "      <td>13:23</td>\n",
              "      <td>2016.0</td>\n",
              "      <td>29.0</td>\n",
              "      <td>F</td>\n",
              "      <td>United States</td>\n",
              "      <td>Washington</td>\n",
              "      <td>Accessories</td>\n",
              "      <td>Tires and Tubes</td>\n",
              "      <td>3.0</td>\n",
              "      <td>3.67</td>\n",
              "      <td>15.0</td>\n",
              "      <td>Cash</td>\n",
              "      <td>7.5</td>\n",
              "      <td>11.01</td>\n",
              "      <td>3.99</td>\n",
              "    </tr>\n",
              "    <tr>\n",
              "      <th>3</th>\n",
              "      <td>12-03-2016</td>\n",
              "      <td>20:33</td>\n",
              "      <td>2016.0</td>\n",
              "      <td>29.0</td>\n",
              "      <td>F</td>\n",
              "      <td>United States</td>\n",
              "      <td>Washington</td>\n",
              "      <td>Accessories</td>\n",
              "      <td>Tires and Tubes</td>\n",
              "      <td>2.0</td>\n",
              "      <td>87.50</td>\n",
              "      <td>233.0</td>\n",
              "      <td>Cash</td>\n",
              "      <td>6.5</td>\n",
              "      <td>175.00</td>\n",
              "      <td>58.00</td>\n",
              "    </tr>\n",
              "    <tr>\n",
              "      <th>4</th>\n",
              "      <td>12-03-2016</td>\n",
              "      <td>10:37</td>\n",
              "      <td>2016.0</td>\n",
              "      <td>29.0</td>\n",
              "      <td>F</td>\n",
              "      <td>United States</td>\n",
              "      <td>Washington</td>\n",
              "      <td>Accessories</td>\n",
              "      <td>Tires and Tubes</td>\n",
              "      <td>3.0</td>\n",
              "      <td>35.00</td>\n",
              "      <td>125.0</td>\n",
              "      <td>Cash</td>\n",
              "      <td>8.0</td>\n",
              "      <td>105.00</td>\n",
              "      <td>20.00</td>\n",
              "    </tr>\n",
              "  </tbody>\n",
              "</table>\n",
              "</div>\n",
              "      <button class=\"colab-df-convert\" onclick=\"convertToInteractive('df-a01907d1-1b12-4ee0-b77c-39f0c941edcc')\"\n",
              "              title=\"Convert this dataframe to an interactive table.\"\n",
              "              style=\"display:none;\">\n",
              "        \n",
              "  <svg xmlns=\"http://www.w3.org/2000/svg\" height=\"24px\"viewBox=\"0 0 24 24\"\n",
              "       width=\"24px\">\n",
              "    <path d=\"M0 0h24v24H0V0z\" fill=\"none\"/>\n",
              "    <path d=\"M18.56 5.44l.94 2.06.94-2.06 2.06-.94-2.06-.94-.94-2.06-.94 2.06-2.06.94zm-11 1L8.5 8.5l.94-2.06 2.06-.94-2.06-.94L8.5 2.5l-.94 2.06-2.06.94zm10 10l.94 2.06.94-2.06 2.06-.94-2.06-.94-.94-2.06-.94 2.06-2.06.94z\"/><path d=\"M17.41 7.96l-1.37-1.37c-.4-.4-.92-.59-1.43-.59-.52 0-1.04.2-1.43.59L10.3 9.45l-7.72 7.72c-.78.78-.78 2.05 0 2.83L4 21.41c.39.39.9.59 1.41.59.51 0 1.02-.2 1.41-.59l7.78-7.78 2.81-2.81c.8-.78.8-2.07 0-2.86zM5.41 20L4 18.59l7.72-7.72 1.47 1.35L5.41 20z\"/>\n",
              "  </svg>\n",
              "      </button>\n",
              "      \n",
              "  <style>\n",
              "    .colab-df-container {\n",
              "      display:flex;\n",
              "      flex-wrap:wrap;\n",
              "      gap: 12px;\n",
              "    }\n",
              "\n",
              "    .colab-df-convert {\n",
              "      background-color: #E8F0FE;\n",
              "      border: none;\n",
              "      border-radius: 50%;\n",
              "      cursor: pointer;\n",
              "      display: none;\n",
              "      fill: #1967D2;\n",
              "      height: 32px;\n",
              "      padding: 0 0 0 0;\n",
              "      width: 32px;\n",
              "    }\n",
              "\n",
              "    .colab-df-convert:hover {\n",
              "      background-color: #E2EBFA;\n",
              "      box-shadow: 0px 1px 2px rgba(60, 64, 67, 0.3), 0px 1px 3px 1px rgba(60, 64, 67, 0.15);\n",
              "      fill: #174EA6;\n",
              "    }\n",
              "\n",
              "    [theme=dark] .colab-df-convert {\n",
              "      background-color: #3B4455;\n",
              "      fill: #D2E3FC;\n",
              "    }\n",
              "\n",
              "    [theme=dark] .colab-df-convert:hover {\n",
              "      background-color: #434B5C;\n",
              "      box-shadow: 0px 1px 3px 1px rgba(0, 0, 0, 0.15);\n",
              "      filter: drop-shadow(0px 1px 2px rgba(0, 0, 0, 0.3));\n",
              "      fill: #FFFFFF;\n",
              "    }\n",
              "  </style>\n",
              "\n",
              "      <script>\n",
              "        const buttonEl =\n",
              "          document.querySelector('#df-a01907d1-1b12-4ee0-b77c-39f0c941edcc button.colab-df-convert');\n",
              "        buttonEl.style.display =\n",
              "          google.colab.kernel.accessAllowed ? 'block' : 'none';\n",
              "\n",
              "        async function convertToInteractive(key) {\n",
              "          const element = document.querySelector('#df-a01907d1-1b12-4ee0-b77c-39f0c941edcc');\n",
              "          const dataTable =\n",
              "            await google.colab.kernel.invokeFunction('convertToInteractive',\n",
              "                                                     [key], {});\n",
              "          if (!dataTable) return;\n",
              "\n",
              "          const docLinkHtml = 'Like what you see? Visit the ' +\n",
              "            '<a target=\"_blank\" href=https://colab.research.google.com/notebooks/data_table.ipynb>data table notebook</a>'\n",
              "            + ' to learn more about interactive tables.';\n",
              "          element.innerHTML = '';\n",
              "          dataTable['output_type'] = 'display_data';\n",
              "          await google.colab.output.renderOutput(dataTable, element);\n",
              "          const docLink = document.createElement('div');\n",
              "          docLink.innerHTML = docLinkHtml;\n",
              "          element.appendChild(docLink);\n",
              "        }\n",
              "      </script>\n",
              "    </div>\n",
              "  </div>\n",
              "  "
            ]
          },
          "metadata": {},
          "execution_count": 10
        }
      ]
    },
    {
      "cell_type": "markdown",
      "source": [
        "By using revenue and sales cost, i have added a new column called profit."
      ],
      "metadata": {
        "id": "vUXm3TuHSmEY"
      }
    },
    {
      "cell_type": "markdown",
      "source": [
        "I used the quantity and unit cost to determine the actual cost of the goods for each bill at the client's request. By using actual cost and income, I have derived the profit for each sale. The sales cost and profit column has been added to the dataset."
      ],
      "metadata": {
        "id": "05IIF8n6O7p0"
      }
    },
    {
      "cell_type": "markdown",
      "source": [
        "3. Determine the total revenue, total profit, and total amount invested."
      ],
      "metadata": {
        "id": "0MalZ8m3V5xV"
      }
    },
    {
      "cell_type": "code",
      "source": [
        "total_profit = ds['profit'].sum()\n",
        "print('total profit in US$ :', total_profit)\n",
        "\n",
        "total_revenue = ds['Revenue'].sum()\n",
        "print('total revenue in US$', total_revenue)\n",
        "\n",
        "invested_cost_on_products = ds['Sales Cost'].sum()\n",
        "print('total invested cost on products in US$', invested_cost_on_products)\n",
        "\n",
        "net_profit = (total_profit/total_revenue)*100\n",
        "print('net profit margin in %', net_profit)\n"
      ],
      "metadata": {
        "colab": {
          "base_uri": "https://localhost:8080/"
        },
        "id": "p46o5esfweMz",
        "outputId": "cef56dc7-277d-455e-ae06-cac750575284"
      },
      "execution_count": null,
      "outputs": [
        {
          "output_type": "stream",
          "name": "stdout",
          "text": [
            "total profit in US$ : 2261920.98\n",
            "total revenue in US$ 22336010.0\n",
            "total invested cost on products in US$ 20074089.02\n",
            "net profit margin in % 10.126790684638841\n"
          ]
        }
      ]
    },
    {
      "cell_type": "markdown",
      "source": [
        "By using Sum() method, i have calculated the total revenue, investment, total profit and net profit."
      ],
      "metadata": {
        "id": "un7haV1hTGfB"
      }
    },
    {
      "cell_type": "markdown",
      "source": [
        "I used the sum() technique to determine the total income, total profit, and amount invested in accordance with business needs. The overall profit for the past two years (2015 and 2016) is 2261422.989 US dollars, or 10.120%."
      ],
      "metadata": {
        "id": "9Q-HjsA0WWPS"
      }
    },
    {
      "cell_type": "markdown",
      "source": [
        "4. Which products are mostly sold?\n",
        "\n"
      ],
      "metadata": {
        "id": "IJDWGD8rbTwQ"
      }
    },
    {
      "cell_type": "code",
      "source": [
        "ds['Quantity'].astype(int)\n",
        "sales_by_product = ds.groupby('Sub Category')['Quantity'].sum()\n",
        "conv = sales_by_product.index.tolist()\n",
        "plt.bar(conv, sales_by_product)\n",
        "plt.xticks(rotation = 'vertical')\n",
        "plt.xlabel('products')\n",
        "plt.ylabel('count')\n",
        "plt.title('products sales')\n",
        "plt.show()"
      ],
      "metadata": {
        "colab": {
          "base_uri": "https://localhost:8080/",
          "height": 376
        },
        "id": "o9dS0e8rbRIM",
        "outputId": "1482d012-a8a0-4610-b31d-47109baf3494"
      },
      "execution_count": null,
      "outputs": [
        {
          "output_type": "display_data",
          "data": {
            "text/plain": [
              "<Figure size 432x288 with 1 Axes>"
            ],
            "image/png": "[encoded data removed]"
          },
          "metadata": {
            "needs_background": "light"
          }
        }
      ]
    },
    {
      "cell_type": "markdown",
      "source": [
        "I have coverted quantity to int to plot the bar graph because float type can't be plotted."
      ],
      "metadata": {
        "id": "xcLbhz4XTc1O"
      }
    },
    {
      "cell_type": "code",
      "source": [
        "sub_categort_sales = ds['Sub Category'].value_counts()\n",
        "sub_categort_sales.plot(kind = 'pie', y = 'Quantity', autopct = '%1.1f%%', figsize = (20,20) )"
      ],
      "metadata": {
        "colab": {
          "base_uri": "https://localhost:8080/",
          "height": 961
        },
        "id": "d-_iG76kDsuv",
        "outputId": "7e0522c1-2324-419f-fedd-511328556acc"
      },
      "execution_count": null,
      "outputs": [
        {
          "output_type": "execute_result",
          "data": {
            "text/plain": [
              "<Axes: ylabel='Sub Category'>"
            ]
          },
          "metadata": {},
          "execution_count": 13
        },
        {
          "output_type": "display_data",
          "data": {
            "text/plain": [
              "<Figure size 1440x1440 with 1 Axes>"
            ],
            "image/png": "[encoded data removed]"
          },
          "metadata": {}
        }
      ]
    },
    {
      "cell_type": "markdown",
      "source": [
        "I have examined the best-selling and worst-selling products in accordance with the plotted bar chart and pie chart. Tires and Tubes are the product that sells the best for two years, followed by bottels and cages, helmets and road bikes, while bike racks and bike stands are the product that sells the least."
      ],
      "metadata": {
        "id": "s_qNrDyJmP8O"
      }
    },
    {
      "cell_type": "markdown",
      "source": [
        "5. What are the sales and profits in each nation?\n",
        "\n"
      ],
      "metadata": {
        "id": "xsAR-2Am3sI5"
      }
    },
    {
      "cell_type": "code",
      "source": [
        "country = ds['Country'].unique()\n",
        "print(country)"
      ],
      "metadata": {
        "colab": {
          "base_uri": "https://localhost:8080/"
        },
        "id": "Uz-MXpCAjBrQ",
        "outputId": "74f34fce-f873-43a4-84d2-7543c8961961"
      },
      "execution_count": null,
      "outputs": [
        {
          "output_type": "stream",
          "name": "stdout",
          "text": [
            "['United States' 'France' 'United Kingdom' 'Germany']\n"
          ]
        }
      ]
    },
    {
      "cell_type": "markdown",
      "source": [
        "Here, I discovered that they do business in four different nations. Unique() is used to get the unique values in column."
      ],
      "metadata": {
        "id": "oOtmMF176UAQ"
      }
    },
    {
      "cell_type": "code",
      "source": [
        "USA_sales = ds['Country'].value_counts()['United States']\n",
        "France_sales = ds['Country'].value_counts()['France']\n",
        "UK_sales = ds['Country'].value_counts()['United Kingdom']\n",
        "Germany_sales = ds['Country'].value_counts()['Germany']\n",
        "\n",
        "plt.bar('USA', USA_sales)\n",
        "plt.bar('France', France_sales)\n",
        "plt.bar('UK', UK_sales)\n",
        "plt.bar('Germany', Germany_sales)\n",
        "plt.title('sales by country')\n",
        "plt.xlabel('country')\n",
        "plt.ylabel('sales count')"
      ],
      "metadata": {
        "colab": {
          "base_uri": "https://localhost:8080/",
          "height": 312
        },
        "id": "lv_D5dABjsXg",
        "outputId": "77641097-edc4-442d-d7bc-7786c84ca4c4"
      },
      "execution_count": null,
      "outputs": [
        {
          "output_type": "execute_result",
          "data": {
            "text/plain": [
              "Text(0, 0.5, 'sales count')"
            ]
          },
          "metadata": {},
          "execution_count": 15
        },
        {
          "output_type": "display_data",
          "data": {
            "text/plain": [
              "<Figure size 432x288 with 1 Axes>"
            ],
            "image/png": "[encoded data removed]"
          },
          "metadata": {
            "needs_background": "light"
          }
        }
      ]
    },
    {
      "cell_type": "markdown",
      "source": [
        "I saw that the USA had the highest percentage of sales when compared to the other two countries after visualizing the graph."
      ],
      "metadata": {
        "id": "kLY0uLrr4J2x"
      }
    },
    {
      "cell_type": "code",
      "source": [
        "country_wise_sales = ds.groupby(['Country']).sum()\n",
        "revenue_country_wise_sales = country_wise_sales.loc[:,'Revenue'].astype(int)\n",
        "print(revenue_country_wise_sales)\n",
        "\n",
        "revenue_country_wise_sales.plot(kind = 'bar', x = 'country', y = 'Revenue in US$', figsize = (5,5))\n",
        "plt.title('revenue by country')\n",
        "plt.xlabel('country')\n",
        "plt.ylabel('Revenue in US$')\n",
        "plt.show()"
      ],
      "metadata": {
        "colab": {
          "base_uri": "https://localhost:8080/",
          "height": 524
        },
        "id": "IZ-S8Vgx7ssJ",
        "outputId": "7b48243a-805c-4f8c-e480-47cd56c89c47"
      },
      "execution_count": null,
      "outputs": [
        {
          "output_type": "stream",
          "name": "stdout",
          "text": [
            "Country\n",
            "France             3444133\n",
            "Germany            4244510\n",
            "United Kingdom     4276220\n",
            "United States     10371147\n",
            "Name: Revenue, dtype: int64\n"
          ]
        },
        {
          "output_type": "display_data",
          "data": {
            "text/plain": [
              "<Figure size 360x360 with 1 Axes>"
            ],
            "image/png": "[encoded data removed]"
          },
          "metadata": {
            "needs_background": "light"
          }
        }
      ]
    },
    {
      "cell_type": "markdown",
      "source": [
        ".loc() is used to point the subsets of the data. colon':' before \",\" is used to indicate all the rows to be selected from data set."
      ],
      "metadata": {
        "id": "b4t5WLdcWuoP"
      }
    },
    {
      "cell_type": "markdown",
      "source": [
        "USA has produced highest revenue when compared to other three countries."
      ],
      "metadata": {
        "id": "NRK6MR7FXc1m"
      }
    },
    {
      "cell_type": "markdown",
      "source": [
        "6. Discover how customers are interested in paying?"
      ],
      "metadata": {
        "id": "s1ygWR20W8fN"
      }
    },
    {
      "cell_type": "code",
      "source": [
        "payment_method = ds['Payment'].unique()\n",
        "print(payment_method)"
      ],
      "metadata": {
        "colab": {
          "base_uri": "https://localhost:8080/"
        },
        "id": "nWNfRG38p0iS",
        "outputId": "1e582101-6fbe-48b9-810b-5e018c4f597a"
      },
      "execution_count": null,
      "outputs": [
        {
          "output_type": "stream",
          "name": "stdout",
          "text": [
            "['Credit Card' 'Cash' 'Ewallet']\n"
          ]
        }
      ]
    },
    {
      "cell_type": "markdown",
      "source": [
        "i am analyzing options to pay. There are 3 modes of payment, they are credit card, cash and Ewallet."
      ],
      "metadata": {
        "id": "LB2roO-OQmU6"
      }
    },
    {
      "cell_type": "code",
      "source": [
        "cash_payment = ds['Payment'].value_counts()['Cash']\n",
        "credit_card_payment = ds['Payment'].value_counts()['Credit Card']\n",
        "ewallet_payment = ds['Payment'].value_counts()['Ewallet']\n",
        "\n",
        "plt.bar('cash payment', cash_payment)\n",
        "plt.bar('credit card', credit_card_payment)\n",
        "plt.bar('E wallet', ewallet_payment)\n",
        "plt.title('mode of payments')\n",
        "plt.xlabel('payment method')\n",
        "plt.ylabel('count')\n",
        "plt.show()"
      ],
      "metadata": {
        "colab": {
          "base_uri": "https://localhost:8080/",
          "height": 295
        },
        "id": "8QrasBqvzK7d",
        "outputId": "902c089b-cec4-45a9-a861-e7fb3e47b4f2"
      },
      "execution_count": null,
      "outputs": [
        {
          "output_type": "display_data",
          "data": {
            "text/plain": [
              "<Figure size 432x288 with 1 Axes>"
            ],
            "image/png": "[encoded data removed]"
          },
          "metadata": {
            "needs_background": "light"
          }
        }
      ]
    },
    {
      "cell_type": "code",
      "source": [
        "cash_payment = ds['Payment'].value_counts()['Cash']\n",
        "credit_card_payment = ds['Payment'].value_counts()['Credit Card']\n",
        "ewallet_payment = ds['Payment'].value_counts()['Ewallet']\n",
        "\n",
        "modes = [cash_payment, credit_card_payment, ewallet_payment]\n",
        "labels= ['Cash', 'Credit card', 'Ewallet']\n",
        "plt.pie(modes, labels = labels, autopct = '%1.1f%%')\n",
        "#a = plt.subplots(figsize=(5,5))\n",
        "plt.title('mode of payments')\n",
        "plt.show()"
      ],
      "metadata": {
        "colab": {
          "base_uri": "https://localhost:8080/",
          "height": 264
        },
        "id": "wEwb6Dea_GDj",
        "outputId": "1b1fea4d-1af2-4267-cf8d-c7b75a7ed967"
      },
      "execution_count": null,
      "outputs": [
        {
          "output_type": "display_data",
          "data": {
            "text/plain": [
              "<Figure size 432x288 with 1 Axes>"
            ],
            "image/png": "[encoded data removed]"
          },
          "metadata": {}
        }
      ]
    },
    {
      "cell_type": "markdown",
      "source": [
        "According to my analysis, Cash is used for the vast majority of transactions, then credit cards. Ewallet receives the smallest percentage of payments. When it comes to choosing between offline payments (done with cash) and online payments (done with a credit card and an e-wallet), most individuals opt for the online form of exchange."
      ],
      "metadata": {
        "id": "AcItengYQdtI"
      }
    },
    {
      "cell_type": "markdown",
      "source": [
        "7. Which gender of customers is more interested in purchasing goods from the shop?"
      ],
      "metadata": {
        "id": "6viFr2QljBZN"
      }
    },
    {
      "cell_type": "code",
      "source": [
        "ds['Customer Gender'].value_counts()"
      ],
      "metadata": {
        "colab": {
          "base_uri": "https://localhost:8080/"
        },
        "id": "bhrbCpcc2ajz",
        "outputId": "3380051b-668f-4631-a156-c4423469421b"
      },
      "execution_count": null,
      "outputs": [
        {
          "output_type": "execute_result",
          "data": {
            "text/plain": [
              "M    17801\n",
              "F    17052\n",
              "Name: Customer Gender, dtype: int64"
            ]
          },
          "metadata": {},
          "execution_count": 20
        }
      ]
    },
    {
      "cell_type": "code",
      "source": [
        "Male = ds['Customer Gender'].value_counts()['M']\n",
        "Female = ds['Customer Gender'].value_counts()['F']\n",
        "\n",
        "plt.bar('male', Male, width = 0.5)\n",
        "plt.bar('female', Female, width = 0.5)\n",
        "plt.title('Gender count')\n",
        "plt.xlabel('gender')\n",
        "plt.ylabel('count')\n",
        "plt.show()"
      ],
      "metadata": {
        "colab": {
          "base_uri": "https://localhost:8080/",
          "height": 295
        },
        "id": "i7YI74l_W888",
        "outputId": "413d1980-d670-461e-98fd-a2932e501e8e"
      },
      "execution_count": null,
      "outputs": [
        {
          "output_type": "display_data",
          "data": {
            "text/plain": [
              "<Figure size 432x288 with 1 Axes>"
            ],
            "image/png": "[encoded data removed]"
          },
          "metadata": {
            "needs_background": "light"
          }
        }
      ]
    },
    {
      "cell_type": "markdown",
      "source": [
        "I noticed that there is a slight difference in gender between customers. According to this plot, both males and females are interested in the company's products."
      ],
      "metadata": {
        "id": "4-EZJbamyhDS"
      }
    },
    {
      "cell_type": "markdown",
      "source": [
        "8. What are the revenue and profits for each sort of product?\n"
      ],
      "metadata": {
        "id": "pRgGfkUZhQK9"
      }
    },
    {
      "cell_type": "code",
      "source": [
        "product_vise_sales = ds.groupby(['Sub Category']).sum()\n",
        "product_revenue_vise_sales = product_vise_sales.loc[:,'Revenue'].astype(int)\n",
        "print(product_revenue_vise_sales)\n",
        "\n",
        "product_revenue_vise_sales.plot(kind = 'bar', figsize = (5,5))\n",
        "plt.title('revenue by products')\n",
        "plt.xlabel('product')\n",
        "plt.ylabel('Revenue in US$')\n",
        "plt.show()"
      ],
      "metadata": {
        "colab": {
          "base_uri": "https://localhost:8080/",
          "height": 760
        },
        "id": "hvvLetTnhPo3",
        "outputId": "b6db02b1-d965-486f-e030-19e5df933863"
      },
      "execution_count": null,
      "outputs": [
        {
          "output_type": "stream",
          "name": "stdout",
          "text": [
            "Sub Category\n",
            "Bike Racks            140854\n",
            "Bike Stands           149323\n",
            "Bottles and Cages     709407\n",
            "Caps                  255992\n",
            "Cleaners               82887\n",
            "Fenders               329204\n",
            "Gloves                228353\n",
            "Helmets              2738055\n",
            "Hydration Packs       403276\n",
            "Jerseys              1831986\n",
            "Mountain Bikes       5172439\n",
            "Road Bikes           3921989\n",
            "Shorts                689184\n",
            "Socks                  60972\n",
            "Tires and Tubes      2865498\n",
            "Touring Bikes        2387910\n",
            "Vests                 368681\n",
            "Name: Revenue, dtype: int64\n"
          ]
        },
        {
          "output_type": "display_data",
          "data": {
            "text/plain": [
              "<Figure size 360x360 with 1 Axes>"
            ],
            "image/png": "[encoded data removed]"
          },
          "metadata": {
            "needs_background": "light"
          }
        }
      ]
    },
    {
      "cell_type": "markdown",
      "source": [
        "After looking at the potted graph, I saw that mountain bikes and road bikes generated the most money. Less money was made by some accessories, such as scocks, cleaners, bike racks, and bike stands."
      ],
      "metadata": {
        "id": "taAtMTB7zAGy"
      }
    },
    {
      "cell_type": "code",
      "source": [
        "product_vise_sales = ds.groupby(['Sub Category']).sum()\n",
        "product_vise_profit_sales = product_vise_sales.loc[:,'profit'].astype(int)\n",
        "print(product_vise_profit_sales)\n",
        "\n",
        "product_vise_profit_sales.plot(kind = 'bar', figsize = (5,5))\n",
        "plt.title('profit by products')\n",
        "plt.xlabel('products')\n",
        "plt.ylabel('profit in US$')\n",
        "plt.show()"
      ],
      "metadata": {
        "colab": {
          "base_uri": "https://localhost:8080/",
          "height": 760
        },
        "id": "TUMuEPIOsdVx",
        "outputId": "99cb512a-2956-4c6b-e576-1634b738a56c"
      },
      "execution_count": null,
      "outputs": [
        {
          "output_type": "stream",
          "name": "stdout",
          "text": [
            "Sub Category\n",
            "Bike Racks            34894\n",
            "Bike Stands           25303\n",
            "Bottles and Cages    129566\n",
            "Caps                  43610\n",
            "Cleaners              14663\n",
            "Fenders               71403\n",
            "Gloves                45816\n",
            "Helmets              518459\n",
            "Hydration Packs       72340\n",
            "Jerseys              300690\n",
            "Mountain Bikes       145255\n",
            "Road Bikes            98170\n",
            "Shorts                87044\n",
            "Socks                  9483\n",
            "Tires and Tubes      512069\n",
            "Touring Bikes         94806\n",
            "Vests                 58343\n",
            "Name: profit, dtype: int64\n"
          ]
        },
        {
          "output_type": "display_data",
          "data": {
            "text/plain": [
              "<Figure size 360x360 with 1 Axes>"
            ],
            "image/png": "[encoded data removed]"
          },
          "metadata": {
            "needs_background": "light"
          }
        }
      ]
    },
    {
      "cell_type": "markdown",
      "source": [
        "While coming to the profits, Helemets and tiers and tubes  generated nearly same amount, topping the chart."
      ],
      "metadata": {
        "id": "DgGk5GP46Xcs"
      }
    },
    {
      "cell_type": "markdown",
      "source": [
        "9. What are the annual income and profits for 2015 and 2016?"
      ],
      "metadata": {
        "id": "_FJwT9XX4DIW"
      }
    },
    {
      "cell_type": "code",
      "source": [
        "year_vise = ds.groupby(['Year']).sum()\n",
        "year_vise_revenue = year_vise.loc[:,'Revenue'].astype(int)\n",
        "print(year_vise_revenue)\n",
        "\n",
        "year_vise_revenue.plot(kind = 'bar', figsize = (5,5))\n",
        "plt.title('revenue')\n",
        "plt.xlabel('years')\n",
        "plt.ylabel('revenue in US$')\n",
        "plt.show()"
      ],
      "metadata": {
        "colab": {
          "base_uri": "https://localhost:8080/",
          "height": 444
        },
        "id": "Wn5fj0DQmu9Q",
        "outputId": "9169bde7-17b1-4b0c-f178-d24752aa3743"
      },
      "execution_count": null,
      "outputs": [
        {
          "output_type": "stream",
          "name": "stdout",
          "text": [
            "Year\n",
            "2015.0     9942710\n",
            "2016.0    12393300\n",
            "Name: Revenue, dtype: int64\n"
          ]
        },
        {
          "output_type": "display_data",
          "data": {
            "text/plain": [
              "<Figure size 360x360 with 1 Axes>"
            ],
            "image/png": "[encoded data removed]"
          },
          "metadata": {
            "needs_background": "light"
          }
        }
      ]
    },
    {
      "cell_type": "code",
      "source": [
        "product_vise_saless = ds.groupby(['Year']).sum()\n",
        "year_vise_profit = year_vise.loc[:,'profit'].astype(int)\n",
        "print(year_vise_profit)\n",
        "\n",
        "year_vise_profit.plot(kind = 'bar', figsize = (5,5))\n",
        "plt.title('profits')\n",
        "plt.xlabel('year')\n",
        "plt.ylabel('profit in US$')\n",
        "plt.show()"
      ],
      "metadata": {
        "colab": {
          "base_uri": "https://localhost:8080/",
          "height": 444
        },
        "id": "VagIZhhkoad0",
        "outputId": "09f87cb4-5b1b-4eb3-c83d-1c2ada180f74"
      },
      "execution_count": null,
      "outputs": [
        {
          "output_type": "stream",
          "name": "stdout",
          "text": [
            "Year\n",
            "2015.0     288918\n",
            "2016.0    1973002\n",
            "Name: profit, dtype: int64\n"
          ]
        },
        {
          "output_type": "display_data",
          "data": {
            "text/plain": [
              "<Figure size 360x360 with 1 Axes>"
            ],
            "image/png": "[encoded data removed]"
          },
          "metadata": {
            "needs_background": "light"
          }
        }
      ]
    },
    {
      "cell_type": "markdown",
      "source": [
        "I noticed a small variation in revenue between 2015 and 2016 after charting the revenue and profit bar chart. On the other hand, from 2015 to 2016, the profit was significantly higher."
      ],
      "metadata": {
        "id": "DrgiP0C94Rej"
      }
    },
    {
      "cell_type": "markdown",
      "source": [
        "10. How many items are sold below their wholesale price?"
      ],
      "metadata": {
        "id": "IofsLGiO88i9"
      }
    },
    {
      "cell_type": "code",
      "source": [
        "products = ds['Sales Cost'] > ds['Revenue']\n",
        "products.value_counts()\n"
      ],
      "metadata": {
        "colab": {
          "base_uri": "https://localhost:8080/"
        },
        "id": "ZaCV23_m7syg",
        "outputId": "32dfbfc5-4ed8-4978-ac83-78bd6f8c192f"
      },
      "execution_count": null,
      "outputs": [
        {
          "output_type": "execute_result",
          "data": {
            "text/plain": [
              "False    29955\n",
              "True      4898\n",
              "dtype: int64"
            ]
          },
          "metadata": {},
          "execution_count": 26
        }
      ]
    },
    {
      "cell_type": "markdown",
      "source": [
        "A total of 4898 products were sold for loss."
      ],
      "metadata": {
        "id": "C05PKJg_AZxo"
      }
    },
    {
      "cell_type": "markdown",
      "source": [
        "I analyzed the data using packages as per the requirements and evaluated the results based on the business requirements. Each product's sales, profit, total revenue, net profit, and selling price are the outcomes. I also calculated how many products are sold in each category and how many are sold at a loss. I also calculated each country's profits and revenue. Plotting the graphs using plot techniques improved understanding."
      ],
      "metadata": {
        "id": "vI-PPIE3bQ9N"
      }
    },
    {
      "cell_type": "markdown",
      "source": [
        "Here is my data set reference link: https://www.kaggle.com/datasets/nivethithaamurugan/bike-accessories-sales-dataset?select=Fezzari+Sales.csv\n"
      ],
      "metadata": {
        "id": "TeTTELDrdidY"
      }
    }
  ]
}